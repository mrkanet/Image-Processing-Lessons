{
 "cells": [
  {
   "cell_type": "code",
   "execution_count": 9,
   "metadata": {},
   "outputs": [],
   "source": [
    "import numpy as np\n",
    "import matplotlib.pyplot as plt\n",
    "import pandas as pd\n",
    "import math \n",
    "\n",
    "image_size = 28 # width and length\n",
    "image_pixels = image_size * image_size\n",
    "train_data=np.array(pd.read_csv(\"mnist_train.csv\"))\n",
    "test_data=np.array(pd.read_csv(\"mnist_test.csv\"))\n",
    "\n",
    "def pdf(x, mu=0.0, sigma=1.0):\n",
    "    x = np.float32(x - mu) / (sigma+(1e+10))\n",
    "    return np.exp(-x*x/2.0) / np.sqrt(2.0*math.pi) / sigma\n",
    "\n",
    "\n",
    "def get_my_mean_and_std(k=2,l=100):\n",
    "    #k=0\n",
    "    s=0\n",
    "    t=0\n",
    "    #l=350\n",
    "    for i in range(m):\n",
    "        if(train_data[i,0]==k):\n",
    "            s+=1\n",
    "\n",
    "            t+=train_data[i,l+1]\n",
    "            digit_class=train_data[i,0]\n",
    "            top_left=train_data[i,1]\n",
    "            bottom_right=train_data[i,784]\n",
    "            #print(digit_class,end=\" \")\n",
    "            #print(top_left,end=\" \")\n",
    "            #print(bottom_right,end=\"\\n\")\n",
    "    mean_1=t/s\n",
    "\n",
    "\n",
    "    s=0\n",
    "    t=0\n",
    "    for i in range(m):\n",
    "        if(train_data[i,0]==k):\n",
    "            s+=1\n",
    "            diff_1=train_data[i,l+1]-mean_1\n",
    "            t+=diff_1*diff_1\n",
    "    std_1=np.sqrt(t/(s-1))\n",
    "    #var_1=t/(s-1)\n",
    "    #print(mean_1,std_1)\n",
    "    return mean_1,std_1"
   ]
  },
  {
   "cell_type": "code",
   "execution_count": 2,
   "metadata": {},
   "outputs": [],
   "source": [
    "img = plt.imread(\"olusturulan.jpg\")"
   ]
  },
  {
   "cell_type": "code",
   "execution_count": 12,
   "metadata": {},
   "outputs": [
    {
     "ename": "ValueError",
     "evalue": "The truth value of an array with more than one element is ambiguous. Use a.any() or a.all()",
     "output_type": "error",
     "traceback": [
      "\u001b[0;31m---------------------------------------------------------------------------\u001b[0m",
      "\u001b[0;31mValueError\u001b[0m                                Traceback (most recent call last)",
      "\u001b[0;32m<ipython-input-12-548d1dc159d4>\u001b[0m in \u001b[0;36m<module>\u001b[0;34m\u001b[0m\n\u001b[1;32m     15\u001b[0m                     \u001b[0;31m#print(\"STD\\n\"+str(std_1))\u001b[0m\u001b[0;34m\u001b[0m\u001b[0;34m\u001b[0m\u001b[0;34m\u001b[0m\u001b[0m\n\u001b[1;32m     16\u001b[0m                     \u001b[0mpdf_deger\u001b[0m\u001b[0;34m=\u001b[0m\u001b[0mpdf\u001b[0m\u001b[0;34m(\u001b[0m\u001b[0mtest_values\u001b[0m\u001b[0;34m,\u001b[0m\u001b[0mm_1\u001b[0m\u001b[0;34m,\u001b[0m\u001b[0mstd_1\u001b[0m\u001b[0;34m)\u001b[0m\u001b[0;34m\u001b[0m\u001b[0;34m\u001b[0m\u001b[0m\n\u001b[0;32m---> 17\u001b[0;31m                     \u001b[0;32mif\u001b[0m \u001b[0;34m(\u001b[0m\u001b[0mnp\u001b[0m\u001b[0;34m.\u001b[0m\u001b[0misnan\u001b[0m\u001b[0;34m(\u001b[0m\u001b[0mpdf_deger\u001b[0m\u001b[0;34m)\u001b[0m\u001b[0;34m==\u001b[0m\u001b[0;32mFalse\u001b[0m\u001b[0;34m)\u001b[0m\u001b[0;34m:\u001b[0m\u001b[0;34m\u001b[0m\u001b[0;34m\u001b[0m\u001b[0m\n\u001b[0m\u001b[1;32m     18\u001b[0m                         \u001b[0;32mif\u001b[0m \u001b[0;34m(\u001b[0m\u001b[0mpdf_deger\u001b[0m\u001b[0;34m!=\u001b[0m\u001b[0;36m0.0\u001b[0m\u001b[0;34m)\u001b[0m\u001b[0;34m:\u001b[0m\u001b[0;34m\u001b[0m\u001b[0;34m\u001b[0m\u001b[0m\n\u001b[1;32m     19\u001b[0m                             \u001b[0;31m#print(\"PDF\\n\"+str(pdf_deger))\u001b[0m\u001b[0;34m\u001b[0m\u001b[0;34m\u001b[0m\u001b[0;34m\u001b[0m\u001b[0m\n",
      "\u001b[0;31mValueError\u001b[0m: The truth value of an array with more than one element is ambiguous. Use a.any() or a.all()"
     ]
    }
   ],
   "source": [
    "m,n,p=img.shape\n",
    "#enbuyukpdf=0\n",
    "enbuyukpdf1=0\n",
    "sayi=0\n",
    "for i in range(10):\n",
    "    enbuyukpdf=1\n",
    "    for j in range(m):\n",
    "        for k in range(n):\n",
    "            test_values=img[j,k]\n",
    "            #print(test_values)\n",
    "            m_1,std_1=get_my_mean_and_std(i,(28*j)+k)\n",
    "            #print((28*j)+k)\n",
    "            if (np.isnan(std_1)==False):\n",
    "                if(std_1!=0.0):\n",
    "                    #print(\"STD\\n\"+str(std_1))\n",
    "                    pdf_deger=pdf(test_values,m_1,std_1)\n",
    "                    if (np.isnan(pdf_deger)==False):\n",
    "                        if (pdf_deger!=0.0):\n",
    "                            #print(\"PDF\\n\"+str(pdf_deger))\n",
    "                            #pdf_deger=math.log(pdf_deger)\n",
    "                            enbuyukpdf+=pdf_deger\n",
    "                            print(pdf_deger)\n",
    "\n",
    "    if (enbuyukpdf1<enbuyukpdf):\n",
    "        enbuyukpdf1=enbuyukpdf\n",
    "        sayi=i\n",
    "print(\"Değer\")\n",
    "print(sayi,enbuyukpdf1)\n"
   ]
  },
  {
   "cell_type": "code",
   "execution_count": null,
   "metadata": {},
   "outputs": [],
   "source": []
  }
 ],
 "metadata": {
  "kernelspec": {
   "display_name": "Python 3",
   "language": "python",
   "name": "python3"
  },
  "language_info": {
   "codemirror_mode": {
    "name": "ipython",
    "version": 3
   },
   "file_extension": ".py",
   "mimetype": "text/x-python",
   "name": "python",
   "nbconvert_exporter": "python",
   "pygments_lexer": "ipython3",
   "version": "3.6.8"
  }
 },
 "nbformat": 4,
 "nbformat_minor": 2
}
