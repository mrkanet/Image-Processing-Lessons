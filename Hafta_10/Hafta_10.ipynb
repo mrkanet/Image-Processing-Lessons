{
 "cells": [
  {
   "cell_type": "code",
   "execution_count": 9,
   "metadata": {},
   "outputs": [],
   "source": [
    "import matplotlib.pyplot as plt\n",
    "import numpy as np\n",
    "import random"
   ]
  },
  {
   "cell_type": "code",
   "execution_count": 6,
   "metadata": {},
   "outputs": [],
   "source": [
    "def addVector(v1, v2):\n",
    "    if(len(v1) == len(v2)):\n",
    "        vector = []\n",
    "        for i in range(len(v1)):\n",
    "            vector.append(v1[i]+v2[i])\n",
    "    \n",
    "\n",
    "    return vector"
   ]
  },
  {
   "cell_type": "code",
   "execution_count": 7,
   "metadata": {},
   "outputs": [],
   "source": [
    "vec1,vec2 = [1,2,3], [4,5,6]"
   ]
  },
  {
   "cell_type": "code",
   "execution_count": 8,
   "metadata": {},
   "outputs": [
    {
     "data": {
      "text/plain": [
       "([5, 7, 9], [1, 2, 3], [4, 5, 6])"
      ]
     },
     "execution_count": 8,
     "metadata": {},
     "output_type": "execute_result"
    }
   ],
   "source": [
    "addVector(vec1,vec2),vec1,vec2"
   ]
  },
  {
   "cell_type": "code",
   "execution_count": 11,
   "metadata": {},
   "outputs": [],
   "source": [
    "def myRandomVectors(m=12,n=7):\n",
    "    myVec = []\n",
    "    for i in range(m):\n",
    "        myVec.append([])\n",
    "        for j in range(n):\n",
    "            myVec[i].append(random.randint(-10,10))\n",
    "    return myVec"
   ]
  },
  {
   "cell_type": "code",
   "execution_count": 12,
   "metadata": {},
   "outputs": [
    {
     "data": {
      "text/plain": [
       "[[-1, 5, 9, 1, 10, 3, 5, -2, 6, -7, 3, 10, -1, 1],\n",
       " [-6, 4, 5, 0, -5, -10, -9, 4, -1, 3, 6, 1, 3, 4],\n",
       " [5, 4, -10, 3, 3, 5, 3, 2, 8, -7, 3, -3, 9, 10],\n",
       " [-5, -5, 6, -6, -3, 7, -1, 5, -2, -5, -9, 1, 7, -7],\n",
       " [2, -5, 7, -6, 2, 2, -4, -3, 6, -9, 9, 10, -7, -1],\n",
       " [-3, -3, 8, 4, 5, 8, -3, -10, 4, 1, 7, 4, -5, 5],\n",
       " [2, -1, 5, -9, -8, -3, 0, -3, 9, 3, -7, -7, 7, 6],\n",
       " [5, -10, -6, -7, 10, 6, -1, -4, -1, -3, 9, 2, 8, -1],\n",
       " [-5, -6, 9, 4, 7, 3, 5, -2, 2, 9, -3, -3, -1, 1],\n",
       " [-10, -1, 6, -8, 2, 1, 6, 2, -7, -7, -2, 1, 3, -10],\n",
       " [7, -1, 0, 9, -4, 5, -9, 0, -5, 10, 1, 10, 5, -1],\n",
       " [4, 9, 2, 8, -6, -10, 4, 4, -10, 2, 10, -6, -5, 3]]"
      ]
     },
     "execution_count": 12,
     "metadata": {},
     "output_type": "execute_result"
    }
   ],
   "source": [
    "addVector(myRandomVectors(), myRandomVectors())"
   ]
  },
  {
   "cell_type": "code",
   "execution_count": 27,
   "metadata": {},
   "outputs": [],
   "source": [
    "def myCenterVector(v1, v2): # düzelt boyut hatası var\n",
    "    lenght = len(v1)\n",
    "    if(lenght == len(v2)):\n",
    "        result = []\n",
    "        for i in range(lenght):\n",
    "                result.append((v1[i][j]+v2[i][j])/2)\n",
    "    return result"
   ]
  },
  {
   "cell_type": "code",
   "execution_count": 28,
   "metadata": {},
   "outputs": [
    {
     "data": {
      "text/plain": [
       "[1.0,\n",
       " 0.5,\n",
       " -1.5,\n",
       " -7.0,\n",
       " -5.0,\n",
       " 6.5,\n",
       " 3.5,\n",
       " -3.5,\n",
       " -9.0,\n",
       " 4.5,\n",
       " -3.0,\n",
       " -3.0,\n",
       " 2.5,\n",
       " -4.0,\n",
       " 3.0,\n",
       " 2.0,\n",
       " 3.0,\n",
       " -8.5,\n",
       " 1.0,\n",
       " 2.5,\n",
       " -8.0,\n",
       " 1.0,\n",
       " -2.0,\n",
       " -7.0,\n",
       " -1.5,\n",
       " 3.5,\n",
       " 2.0,\n",
       " -3.5,\n",
       " -1.5,\n",
       " 5.0,\n",
       " -3.5,\n",
       " -1.5,\n",
       " -1.0,\n",
       " -0.5,\n",
       " -1.5,\n",
       " 6.0,\n",
       " -6.0,\n",
       " -6.0,\n",
       " -6.5,\n",
       " -3.5,\n",
       " 5.5,\n",
       " 3.0,\n",
       " 2.0,\n",
       " 7.5,\n",
       " 6.5,\n",
       " 2.0,\n",
       " 3.0,\n",
       " -1.0,\n",
       " 1.0,\n",
       " 4.0,\n",
       " -6.5,\n",
       " 4.5,\n",
       " 7.0,\n",
       " -2.0,\n",
       " 7.0,\n",
       " -1.5,\n",
       " 5.5,\n",
       " 1.0,\n",
       " -2.0,\n",
       " 1.0,\n",
       " 4.5,\n",
       " 0.0,\n",
       " 0.5,\n",
       " -4.5,\n",
       " 0.5,\n",
       " 2.5,\n",
       " 4.0,\n",
       " -4.5,\n",
       " 0.5,\n",
       " -5.5,\n",
       " 2.0,\n",
       " -2.0,\n",
       " -2.5,\n",
       " 1.0,\n",
       " -2.5,\n",
       " -5.0,\n",
       " -4.0,\n",
       " -5.0,\n",
       " 0.0,\n",
       " 1.5,\n",
       " 1.5,\n",
       " -3.5,\n",
       " -3.5,\n",
       " -1.0]"
      ]
     },
     "execution_count": 28,
     "metadata": {},
     "output_type": "execute_result"
    }
   ],
   "source": [
    "myCenterVector(vec0, vec1)"
   ]
  },
  {
   "cell_type": "code",
   "execution_count": 24,
   "metadata": {},
   "outputs": [],
   "source": [
    "def findDistance(v1, v2):\n",
    "    s = len(v1)\n",
    "    temp = 0\n",
    "    for i in range(s):\n",
    "        t += (v1[i]-v2[i])**2\n",
    "    return t**0.5"
   ]
  },
  {
   "cell_type": "code",
   "execution_count": null,
   "metadata": {},
   "outputs": [],
   "source": []
  }
 ],
 "metadata": {
  "kernelspec": {
   "display_name": "Python 3",
   "language": "python",
   "name": "python3"
  },
  "language_info": {
   "codemirror_mode": {
    "name": "ipython",
    "version": 3
   },
   "file_extension": ".py",
   "mimetype": "text/x-python",
   "name": "python",
   "nbconvert_exporter": "python",
   "pygments_lexer": "ipython3",
   "version": "3.6.8"
  }
 },
 "nbformat": 4,
 "nbformat_minor": 2
}
