{
 "cells": [
  {
   "cell_type": "code",
   "execution_count": 16,
   "metadata": {},
   "outputs": [],
   "source": [
    "import matplotlib.pyplot as plt\n",
    "import numpy as np\n",
    "import os.path"
   ]
  },
  {
   "cell_type": "code",
   "execution_count": 17,
   "metadata": {},
   "outputs": [
    {
     "data": {
      "text/plain": [
       "['.anaconda',\n",
       " '.android',\n",
       " '.AndroidStudio2.3',\n",
       " '.AndroidStudio3.3',\n",
       " '.bash_history',\n",
       " '.cache',\n",
       " '.conda',\n",
       " '.condarc',\n",
       " '.config',\n",
       " '.dotnet',\n",
       " '.eclipse',\n",
       " '.emulator_console_auth_token',\n",
       " '.gitconfig',\n",
       " '.gradle',\n",
       " '.idlerc',\n",
       " '.ipynb_checkpoints',\n",
       " '.ipython',\n",
       " '.jupyter',\n",
       " '.matplotlib',\n",
       " '.nuget',\n",
       " '.p2',\n",
       " '.templateengine',\n",
       " '.tooling',\n",
       " '3D Objects',\n",
       " 'Anaconda3',\n",
       " 'ansel',\n",
       " 'AppData',\n",
       " 'Application Data',\n",
       " 'AppServ',\n",
       " 'Belgelerim',\n",
       " 'CNN.docx',\n",
       " 'Contacts',\n",
       " 'Cookies',\n",
       " 'Creative Cloud Files',\n",
       " 'db.db',\n",
       " 'Desktop',\n",
       " 'Documents',\n",
       " 'Downloads',\n",
       " 'eclipse',\n",
       " 'eclipse-workspace',\n",
       " 'Favorites',\n",
       " 'hafta10.ipynb',\n",
       " 'hafta11.ipynb',\n",
       " 'hafta12.ipynb',\n",
       " 'hafta13.ipynb',\n",
       " 'hafta14.ipynb',\n",
       " 'Intel',\n",
       " 'IntelGraphicsProfiles',\n",
       " 'Links',\n",
       " 'Local Settings',\n",
       " 'main_folder',\n",
       " 'MicrosoftEdgeBackups',\n",
       " 'mnist-master',\n",
       " 'mnist-master.zip',\n",
       " 'mnist_test.csv',\n",
       " 'mnist_train.csv',\n",
       " 'Music',\n",
       " 'NetHood',\n",
       " 'NTUSER.DAT',\n",
       " 'ntuser.dat.LOG1',\n",
       " 'ntuser.dat.LOG2',\n",
       " 'NTUSER.DAT{6d3604b5-d804-11e9-a446-fb0e1b7d54ae}.TM.blf',\n",
       " 'NTUSER.DAT{6d3604b5-d804-11e9-a446-fb0e1b7d54ae}.TMContainer00000000000000000001.regtrans-ms',\n",
       " 'NTUSER.DAT{6d3604b5-d804-11e9-a446-fb0e1b7d54ae}.TMContainer00000000000000000002.regtrans-ms',\n",
       " 'ntuser.ini',\n",
       " 'OneDrive',\n",
       " 'Pictures',\n",
       " 'PrintHood',\n",
       " 'Recent',\n",
       " 'Roaming',\n",
       " 'Saved Games',\n",
       " 'scikit_learn_data',\n",
       " 'Searches',\n",
       " 'SendTo',\n",
       " 'source',\n",
       " 'Start Menu',\n",
       " 'Templates',\n",
       " 'Untitled.ipynb',\n",
       " 'Untitled1.ipynb',\n",
       " 'Untitled2.ipynb',\n",
       " 'Videos',\n",
       " 'wekafiles']"
      ]
     },
     "execution_count": 17,
     "metadata": {},
     "output_type": "execute_result"
    }
   ],
   "source": [
    "os.listdir()"
   ]
  },
  {
   "cell_type": "code",
   "execution_count": 18,
   "metadata": {},
   "outputs": [
    {
     "data": {
      "text/plain": [
       "'C:\\\\Users\\\\fatma'"
      ]
     },
     "execution_count": 18,
     "metadata": {},
     "output_type": "execute_result"
    }
   ],
   "source": [
    "os.getcwd()"
   ]
  },
  {
   "cell_type": "code",
   "execution_count": 19,
   "metadata": {},
   "outputs": [],
   "source": [
    "data_main_folder=\"C:\\\\Users\\\\fatma\\\\main_folder\""
   ]
  },
  {
   "cell_type": "code",
   "execution_count": 20,
   "metadata": {},
   "outputs": [],
   "source": [
    "dirs=[d for d in os.listdir(data_main_folder) if os.path.isdir(os.path.join(data_main_folder))]"
   ]
  },
  {
   "cell_type": "code",
   "execution_count": 21,
   "metadata": {},
   "outputs": [
    {
     "name": "stdout",
     "output_type": "stream",
     "text": [
      "['test', 'train']\n"
     ]
    }
   ],
   "source": [
    "print(dirs)"
   ]
  },
  {
   "cell_type": "code",
   "execution_count": 22,
   "metadata": {},
   "outputs": [],
   "source": [
    "data_faces_of_class = np.zeros((1000,100*100+1))\n",
    "folder_counter = -1\n",
    "s = -1\n",
    "for directory in dirs:\n",
    "    folder_counter = folder_counter +1\n",
    "    new_folder = data_main_folder+\"/\"+directory\n",
    "    \n",
    "    files= [d for d in os.listdir(new_folder) if os.path.isfile(os.path.join(new_folder))]\n",
    "    for file_ in files:\n",
    "        s=s+1\n",
    "        file_name_with_folder=new_folder+\"/\"+file_\n",
    "        print(file_name_with_folder)\n",
    "        ori_image=cv2.imread(file_name_with_folder)\n",
    "        print(ori_image.shape)\n",
    "        resized_img=cv2.resize(ori_image,(100,100))\n",
    "        print(resized_img.shape)\n",
    "\n",
    "        image_gray=cv2.cvtColor(resized_img,cv2.COLOR_BGR2GRAY)\n",
    "        print(image_gray.shape)\n",
    "        plt.imshow(image_gray)\n",
    "        plt.show()\n",
    "\n",
    "        image_gray_one_dim=image_gray.reshape(1,100*100)\n",
    "        print(image_gray_one_dim.shape)\n",
    "        data_faces_of_class[s,0]=folder_counter\n",
    "        data_faces_of_class[s,1:100*100+1]=image_gray_one_dim\n",
    "\n",
    "        cv2.imshow(\"original image\",resized_img)\n",
    "        cv2.imshow(\"gray image\",image_gray)\n",
    "        print(dir_,files)"
   ]
  },
  {
   "cell_type": "code",
   "execution_count": 23,
   "metadata": {},
   "outputs": [
    {
     "name": "stdout",
     "output_type": "stream",
     "text": [
      "(1000, 10001)\n"
     ]
    }
   ],
   "source": [
    "print(data_faces_of_class.shape)"
   ]
  },
  {
   "cell_type": "code",
   "execution_count": 24,
   "metadata": {},
   "outputs": [
    {
     "name": "stdout",
     "output_type": "stream",
     "text": [
      "[0. 0. 0. ... 0. 0. 0.]\n"
     ]
    }
   ],
   "source": [
    "print(data_faces_of_class[3])"
   ]
  },
  {
   "cell_type": "code",
   "execution_count": null,
   "metadata": {},
   "outputs": [],
   "source": []
  }
 ],
 "metadata": {
  "kernelspec": {
   "display_name": "Python 3",
   "language": "python",
   "name": "python3"
  },
  "language_info": {
   "codemirror_mode": {
    "name": "ipython",
    "version": 3
   },
   "file_extension": ".py",
   "mimetype": "text/x-python",
   "name": "python",
   "nbconvert_exporter": "python",
   "pygments_lexer": "ipython3",
   "version": "3.7.3"
  }
 },
 "nbformat": 4,
 "nbformat_minor": 2
}
