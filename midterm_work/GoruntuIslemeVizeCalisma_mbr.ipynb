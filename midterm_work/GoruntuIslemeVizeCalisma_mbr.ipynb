{
 "cells": [
  {
   "cell_type": "code",
   "execution_count": 2,
   "metadata": {},
   "outputs": [
    {
     "data": {
      "text/plain": [
       "<matplotlib.image.AxesImage at 0x7fdf790b50b8>"
      ]
     },
     "execution_count": 2,
     "metadata": {},
     "output_type": "execute_result"
    },
    {
     "data": {
      "image/png": "[encoded data removed]",
      "text/plain": [
       "<Figure size 432x288 with 3 Axes>"
      ]
     },
     "metadata": {
      "needs_background": "light"
     },
     "output_type": "display_data"
    }
   ],
   "source": [
    "import os\n",
    "import numpy as np\n",
    "import matplotlib.pyplot as plt\n",
    "\n",
    "daire = plt.imread('daire.jpeg')\n",
    "dikdortgen = plt.imread('dikdortgen.jpeg')\n",
    "yildiz = plt.imread('yildiz.jpeg')\n",
    "\n",
    "m,n,k = daire.shape #görselin 3 boyutlu olduğunu görüyoruz. iki boyuta (gray level) indirgememiz lazım \n",
    "\n",
    "daire2 = np.zeros((m,n),dtype = np.uint8)\n",
    "daire2 = daire[:,:,0]\n",
    "\n",
    "dikdortgen2 = np.zeros((m,n),dtype = np.uint8)\n",
    "dikdortgen2 = dikdortgen[:,:,0]\n",
    "\n",
    "yildiz2 = np.zeros((m,n),dtype = np.uint8)\n",
    "yildiz2 = yildiz[:,:,0]\n",
    "\n",
    "plt.subplot(1,3,1)\n",
    "plt.imshow(daire2, cmap='gray')\n",
    "\n",
    "plt.subplot(1,3,2)\n",
    "plt.imshow(dikdortgen2, cmap='gray')\n",
    "\n",
    "plt.subplot(1,3,3)\n",
    "plt.imshow(yildiz2, cmap='gray')"
   ]
  },
  {
   "cell_type": "code",
   "execution_count": 13,
   "metadata": {},
   "outputs": [],
   "source": [
    "#yıldız için mbr hesaplaması\n",
    "coordinates = []\n",
    "img = yildiz2\n",
    "for i in range(m):\n",
    "    for j in range(n):\n",
    "        if(img[i,j] < 150):\n",
    "            coordinates.append((i,j))\n",
    "            break\n",
    "    if(len(coordinates) == 1):\n",
    "        break\n",
    "\n",
    "for i in range(m):\n",
    "    for j in range(n):\n",
    "        if(img[m-i-1,j] < 150):\n",
    "            coordinates.append((m-i-1,j))\n",
    "            break\n",
    "    if(len(coordinates) == 2):\n",
    "        break\n",
    "        \n",
    "for j in range(n):\n",
    "    for i in range(m):\n",
    "        if(img[i,j] < 150):\n",
    "            coordinates.append((i,j))\n",
    "            break\n",
    "    if(len(coordinates) == 3):\n",
    "        break\n",
    "        \n",
    "for j in range(n):\n",
    "    for i in range(m):\n",
    "        if(img[i,n-j-1] < 150):\n",
    "            coordinates.append((i,n-j-1))\n",
    "            break\n",
    "    if(len(coordinates) == 4):\n",
    "        break"
   ]
  },
  {
   "cell_type": "code",
   "execution_count": 14,
   "metadata": {},
   "outputs": [
    {
     "data": {
      "text/plain": [
       "[(288, 250), (466, 250), (376, 151), (376, 350)]"
      ]
     },
     "execution_count": 14,
     "metadata": {},
     "output_type": "execute_result"
    }
   ],
   "source": [
    "coordinates"
   ]
  },
  {
   "cell_type": "code",
   "execution_count": 16,
   "metadata": {},
   "outputs": [],
   "source": [
    "m2 = coordinates[1][0] - coordinates[0][0]\n",
    "n2 = coordinates[3][1] - coordinates[2][1]\n",
    "img2 = np.zeros((m2,n2),dtype = np.uint8)"
   ]
  },
  {
   "cell_type": "code",
   "execution_count": 20,
   "metadata": {},
   "outputs": [
    {
     "data": {
      "text/plain": [
       "<matplotlib.image.AxesImage at 0x7fdf788c99b0>"
      ]
     },
     "execution_count": 20,
     "metadata": {},
     "output_type": "execute_result"
    },
    {
     "data": {
      "image/png": "[encoded data removed]",
      "text/plain": [
       "<Figure size 432x288 with 1 Axes>"
      ]
     },
     "metadata": {
      "needs_background": "light"
     },
     "output_type": "display_data"
    }
   ],
   "source": [
    "m3,n3 = coordinates[0][0], coordinates[2][1]\n",
    "for i in range(m2):\n",
    "    for j in range(n2):\n",
    "        img2[i,j] = img[m3+i,n3+j]\n",
    "plt.imshow(img2,cmap = 'gray')"
   ]
  },
  {
   "cell_type": "code",
   "execution_count": 22,
   "metadata": {},
   "outputs": [],
   "source": [
    "#intensity\n",
    "def histogram_gray(img):\n",
    "    m,n = img.shape\n",
    "    histogram = {}\n",
    "    for i in range(m):\n",
    "        for j in range(n):\n",
    "            if(img[i,j] in histogram.keys()):\n",
    "                histogram[img[i,j]] += 1\n",
    "            else:\n",
    "                histogram[img[i,j]] = 1\n",
    "    return histogram"
   ]
  },
  {
   "cell_type": "code",
   "execution_count": 23,
   "metadata": {},
   "outputs": [],
   "source": [
    "hist = histogram_gray(img2)"
   ]
  },
  {
   "cell_type": "code",
   "execution_count": 24,
   "metadata": {},
   "outputs": [
    {
     "data": {
      "text/plain": [
       "{255: 24665,\n",
       " 254: 438,\n",
       " 253: 280,\n",
       " 0: 8583,\n",
       " 1: 412,\n",
       " 2: 302,\n",
       " 252: 201,\n",
       " 5: 44,\n",
       " 251: 84,\n",
       " 250: 50,\n",
       " 6: 21,\n",
       " 3: 198,\n",
       " 4: 89,\n",
       " 249: 27,\n",
       " 7: 7,\n",
       " 248: 12,\n",
       " 246: 4,\n",
       " 9: 3,\n",
       " 8: 1,\n",
       " 247: 1}"
      ]
     },
     "execution_count": 24,
     "metadata": {},
     "output_type": "execute_result"
    }
   ],
   "source": [
    "hist"
   ]
  },
  {
   "cell_type": "code",
   "execution_count": 29,
   "metadata": {},
   "outputs": [],
   "source": [
    "def mean_filter(img):\n",
    "    m,n = img.shape\n",
    "    new_img = np.zeros((m+1,n+1), dtype = np.uint8)\n",
    "    img2 = np.zeros ((m+1,n+1), dtype = np.uint8)\n",
    "    img2[1:m+1,1:n+1] = img\n",
    "    img = img2\n",
    "    for i in range(1,m):\n",
    "        for j in range(1,n):\n",
    "            new_img[i,j] = (img[i-1,j-1]/9)+(img[i,j-1]/9)+(img[i+1,j-1]/9)+(img[i-1,j]/9)+(img[i,j]/9)+(img[i+1,j]/9)+(img[i-1,j+1]/9)+(img[i,j+1]/9)+(img[i+1,j+1]/9)\n",
    "    return new_img"
   ]
  },
  {
   "cell_type": "code",
   "execution_count": 31,
   "metadata": {},
   "outputs": [],
   "source": [
    "img_new = mean_filter(img2)"
   ]
  },
  {
   "cell_type": "code",
   "execution_count": 33,
   "metadata": {},
   "outputs": [
    {
     "data": {
      "text/plain": [
       "<matplotlib.image.AxesImage at 0x7fdf78780ef0>"
      ]
     },
     "execution_count": 33,
     "metadata": {},
     "output_type": "execute_result"
    },
    {
     "data": {
      "image/png": "[encoded data removed]",
      "text/plain": [
       "<Figure size 432x288 with 1 Axes>"
      ]
     },
     "metadata": {
      "needs_background": "light"
     },
     "output_type": "display_data"
    }
   ],
   "source": [
    "plt.imshow(img_new, cmap ='gray')"
   ]
  },
  {
   "cell_type": "code",
   "execution_count": 35,
   "metadata": {},
   "outputs": [],
   "source": [
    "hist2 = histogram_gray(img_new)"
   ]
  },
  {
   "cell_type": "code",
   "execution_count": 36,
   "metadata": {},
   "outputs": [
    {
     "data": {
      "text/plain": [
       "(20, 31)"
      ]
     },
     "execution_count": 36,
     "metadata": {},
     "output_type": "execute_result"
    }
   ],
   "source": [
    "len(hist), len(hist2)"
   ]
  },
  {
   "cell_type": "code",
   "execution_count": 37,
   "metadata": {},
   "outputs": [
    {
     "data": {
      "text/plain": [
       "{255: 24665,\n",
       " 254: 438,\n",
       " 253: 280,\n",
       " 0: 8583,\n",
       " 1: 412,\n",
       " 2: 302,\n",
       " 252: 201,\n",
       " 5: 44,\n",
       " 251: 84,\n",
       " 250: 50,\n",
       " 6: 21,\n",
       " 3: 198,\n",
       " 4: 89,\n",
       " 249: 27,\n",
       " 7: 7,\n",
       " 248: 12,\n",
       " 246: 4,\n",
       " 9: 3,\n",
       " 8: 1,\n",
       " 247: 1}"
      ]
     },
     "execution_count": 37,
     "metadata": {},
     "output_type": "execute_result"
    }
   ],
   "source": [
    "hist"
   ]
  },
  {
   "cell_type": "code",
   "execution_count": 38,
   "metadata": {},
   "outputs": [
    {
     "data": {
      "text/plain": [
       "{0: 8991,\n",
       " 113: 153,\n",
       " 170: 378,\n",
       " 169: 176,\n",
       " 141: 154,\n",
       " 85: 165,\n",
       " 29: 84,\n",
       " 1: 669,\n",
       " 28: 100,\n",
       " 84: 33,\n",
       " 255: 21905,\n",
       " 254: 1846,\n",
       " 253: 552,\n",
       " 197: 106,\n",
       " 57: 122,\n",
       " 226: 99,\n",
       " 142: 18,\n",
       " 198: 65,\n",
       " 114: 12,\n",
       " 56: 54,\n",
       " 225: 72,\n",
       " 112: 11,\n",
       " 86: 7,\n",
       " 252: 3,\n",
       " 224: 2,\n",
       " 140: 8,\n",
       " 2: 6,\n",
       " 168: 3,\n",
       " 196: 3,\n",
       " 30: 1,\n",
       " 58: 2}"
      ]
     },
     "execution_count": 38,
     "metadata": {},
     "output_type": "execute_result"
    }
   ],
   "source": [
    "hist2"
   ]
  },
  {
   "cell_type": "code",
   "execution_count": null,
   "metadata": {},
   "outputs": [],
   "source": []
  }
 ],
 "metadata": {
  "kernelspec": {
   "display_name": "Python 3",
   "language": "python",
   "name": "python3"
  },
  "language_info": {
   "codemirror_mode": {
    "name": "ipython",
    "version": 3
   },
   "file_extension": ".py",
   "mimetype": "text/x-python",
   "name": "python",
   "nbconvert_exporter": "python",
   "pygments_lexer": "ipython3",
   "version": "3.6.8"
  }
 },
 "nbformat": 4,
 "nbformat_minor": 2
}
